{
 "cells": [
  {
   "cell_type": "code",
   "execution_count": 3,
   "id": "ff0a17d0-ceb3-493e-8129-72e9c5024f90",
   "metadata": {},
   "outputs": [
    {
     "name": "stdout",
     "output_type": "stream",
     "text": [
      "Because you liked 'Inception', you might also like:\n",
      "🎬 Inception\n",
      "🎬 The Matrix\n",
      "🎬 Interstellar\n"
     ]
    }
   ],
   "source": [
    "import pandas as pd\n",
    "from sklearn.feature_extraction.text import TfidfVectorizer\n",
    "from sklearn.metrics.pairwise import cosine_similarity\n",
    "\n",
    "# Sample movie dataset\n",
    "data = {\n",
    "    'title': ['The Matrix', 'John Wick', 'Avengers: Endgame', 'Interstellar', 'Inception', 'The Dark Knight'],\n",
    "    'genres': ['Action Sci-Fi', 'Action Crime Thriller', 'Action Sci-Fi Adventure', \n",
    "               'Adventure Drama Sci-Fi', 'Action Adventure Sci-Fi', 'Action Crime Drama']\n",
    "}\n",
    "\n",
    "# Create DataFrame\n",
    "df = pd.DataFrame(data)\n",
    "\n",
    "# Vectorize genres using TF-IDF\n",
    "tfidf = TfidfVectorizer(stop_words='english')\n",
    "tfidf_matrix = tfidf.fit_transform(df['genres'])\n",
    "\n",
    "# Compute cosine similarity matrix\n",
    "cosine_sim = cosine_similarity(tfidf_matrix, tfidf_matrix)\n",
    "\n",
    "# Recommendation function\n",
    "def recommend_movie(title, df=df, cosine_sim=cosine_sim):\n",
    "    if title not in df['title'].values:\n",
    "        return \"Movie not found in the database.\"\n",
    "    \n",
    "    idx = df[df['title'] == title].index[0]\n",
    "    sim_scores = list(enumerate(cosine_sim[idx]))\n",
    "    sim_scores = sorted(sim_scores, key=lambda x: x[1], reverse=True)[1:4]  # top 3 recommendations\n",
    "    \n",
    "    movie_indices = [i[0] for i in sim_scores]\n",
    "    return df['title'].iloc[movie_indices].tolist()\n",
    "\n",
    "# Example usage\n",
    "movie_to_search = 'Inception'\n",
    "recommended = recommend_movie(movie_to_search)\n",
    "print(f\"Because you liked '{movie_to_search}', you might also like:\")\n",
    "for movie in recommended:\n",
    "    print(\"🎬\", movie)\n"
   ]
  },
  {
   "cell_type": "code",
   "execution_count": null,
   "id": "d0d41b73-657e-4ccd-9791-3356b6fe0362",
   "metadata": {},
   "outputs": [],
   "source": []
  }
 ],
 "metadata": {
  "kernelspec": {
   "display_name": "Python 3 (ipykernel)",
   "language": "python",
   "name": "python3"
  },
  "language_info": {
   "codemirror_mode": {
    "name": "ipython",
    "version": 3
   },
   "file_extension": ".py",
   "mimetype": "text/x-python",
   "name": "python",
   "nbconvert_exporter": "python",
   "pygments_lexer": "ipython3",
   "version": "3.12.4"
  }
 },
 "nbformat": 4,
 "nbformat_minor": 5
}
