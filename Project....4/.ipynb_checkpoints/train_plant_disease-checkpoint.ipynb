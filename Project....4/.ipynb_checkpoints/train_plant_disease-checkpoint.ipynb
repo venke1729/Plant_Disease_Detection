{
 "cells": [
  {
   "cell_type": "markdown",
   "id": "671e4f65-bf26-4bd3-a700-2fd9f2b8cdf0",
   "metadata": {},
   "source": [
    "## import Libraries"
   ]
  },
  {
   "cell_type": "code",
   "execution_count": 140,
   "id": "21e99474-e512-4d7e-9459-8d45dfea40bc",
   "metadata": {},
   "outputs": [],
   "source": [
    "import tensorflow as tf\n",
    "import matplotlib.pyplot as plt\n",
    "import pandas as pd\n",
    "import seaborn as sns"
   ]
  },
  {
   "cell_type": "markdown",
   "id": "9fb28c17-e6c0-488a-a843-190bb5e3c12b",
   "metadata": {},
   "source": [
    "## Data Preprocessing"
   ]
  },
  {
   "cell_type": "markdown",
   "id": "fb76c1f8-ec7e-4ae7-9bed-3605773d4297",
   "metadata": {},
   "source": [
    "### Training image preprocessing"
   ]
  },
  {
   "cell_type": "code",
   "execution_count": 142,
   "id": "be88ecbc-06c1-4c52-9b04-aa228daa7469",
   "metadata": {},
   "outputs": [
    {
     "name": "stdout",
     "output_type": "stream",
     "text": [
      "Found 70295 files belonging to 38 classes.\n"
     ]
    }
   ],
   "source": [
    "training_set = tf.keras.utils.image_dataset_from_directory(\n",
    "    'train',\n",
    "    labels=\"inferred\",\n",
    "    label_mode=\"categorical\",\n",
    "    class_names=None,\n",
    "    color_mode=\"rgb\",\n",
    "    batch_size=32,\n",
    "    image_size=(128, 128),\n",
    "    shuffle=True,\n",
    "    seed=None,\n",
    "    validation_split=None,\n",
    "    subset=None,\n",
    "    interpolation=\"bilinear\",\n",
    "    follow_links=False,\n",
    "    crop_to_aspect_ratio=False\n",
    ")"
   ]
  },
  {
   "cell_type": "markdown",
   "id": "7c289765-8cfe-4fa7-939e-524c405db29d",
   "metadata": {},
   "source": [
    "### validation image preprocessing"
   ]
  },
  {
   "cell_type": "code",
   "execution_count": 144,
   "id": "77c4fcf0-af25-4bd3-a9f7-ba865c0ff9b6",
   "metadata": {},
   "outputs": [
    {
     "name": "stdout",
     "output_type": "stream",
     "text": [
      "Found 17572 files belonging to 38 classes.\n"
     ]
    }
   ],
   "source": [
    "validation_set = tf.keras.utils.image_dataset_from_directory(\n",
    "    'valid',\n",
    "    labels=\"inferred\",\n",
    "    label_mode=\"categorical\",\n",
    "    class_names=None,\n",
    "    color_mode=\"rgb\",\n",
    "    batch_size=32,\n",
    "    image_size=(128, 128),\n",
    "    shuffle=True,\n",
    "    seed=None,\n",
    "    validation_split=None\n",
    "    ,\n",
    "    subset=None,\n",
    "    interpolation=\"bilinear\",\n",
    "    follow_links=False,\n",
    "    crop_to_aspect_ratio=False\n",
    ")"
   ]
  },
  {
   "cell_type": "code",
   "execution_count": 146,
   "id": "3d5bba11-83ed-4ed2-824e-fb3128d50f20",
   "metadata": {},
   "outputs": [
    {
     "data": {
      "text/plain": [
       "<_PrefetchDataset element_spec=(TensorSpec(shape=(None, 128, 128, 3), dtype=tf.float32, name=None), TensorSpec(shape=(None, 38), dtype=tf.float32, name=None))>"
      ]
     },
     "execution_count": 146,
     "metadata": {},
     "output_type": "execute_result"
    }
   ],
   "source": [
    "training_set"
   ]
  },
  {
   "cell_type": "markdown",
   "id": "8d2a240e-9883-40eb-9e5e-4f70001fa5fd",
   "metadata": {},
   "source": [
    "#### To avoid Overshooting Loss function\n"
   ]
  },
  {
   "cell_type": "code",
   "execution_count": 148,
   "id": "7bff474b-d543-42d0-8b25-ae869da4158d",
   "metadata": {},
   "outputs": [
    {
     "name": "stdout",
     "output_type": "stream",
     "text": [
      "tf.Tensor(\n",
      "[[[[104.   109.   102.  ]\n",
      "   [105.   110.   103.  ]\n",
      "   [105.   110.   103.  ]\n",
      "   ...\n",
      "   [107.25 108.25 102.25]\n",
      "   [108.5  109.5  103.5 ]\n",
      "   [110.25 111.25 105.25]]\n",
      "\n",
      "  [[104.75 109.75 102.75]\n",
      "   [105.75 110.75 103.75]\n",
      "   [105.75 110.75 103.75]\n",
      "   ...\n",
      "   [106.5  107.5  101.5 ]\n",
      "   [107.   108.   102.  ]\n",
      "   [108.25 109.25 103.25]]\n",
      "\n",
      "  [[105.25 110.25 103.25]\n",
      "   [106.5  111.5  104.5 ]\n",
      "   [106.5  111.5  104.5 ]\n",
      "   ...\n",
      "   [105.5  106.5  100.5 ]\n",
      "   [105.   106.   100.  ]\n",
      "   [105.75 106.75 100.75]]\n",
      "\n",
      "  ...\n",
      "\n",
      "  [[127.5  132.5  126.5 ]\n",
      "   [127.   132.   126.  ]\n",
      "   [126.   131.   125.  ]\n",
      "   ...\n",
      "   [117.75 122.75 115.75]\n",
      "   [119.5  124.5  117.5 ]\n",
      "   [119.5  124.5  117.5 ]]\n",
      "\n",
      "  [[127.5  132.5  126.5 ]\n",
      "   [127.   132.   126.  ]\n",
      "   [126.   131.   125.  ]\n",
      "   ...\n",
      "   [118.75 123.75 116.75]\n",
      "   [120.25 125.25 118.25]\n",
      "   [120.25 125.25 118.25]]\n",
      "\n",
      "  [[127.5  132.5  126.5 ]\n",
      "   [127.   132.   126.  ]\n",
      "   [126.   131.   125.  ]\n",
      "   ...\n",
      "   [119.5  124.5  117.5 ]\n",
      "   [121.   126.   119.  ]\n",
      "   [121.   126.   119.  ]]]\n",
      "\n",
      "\n",
      " [[[131.25 112.25 105.25]\n",
      "   [131.75 112.75 105.75]\n",
      "   [133.5  114.5  107.5 ]\n",
      "   ...\n",
      "   [127.   107.   100.  ]\n",
      "   [130.   110.   103.  ]\n",
      "   [117.5   97.5   90.5 ]]\n",
      "\n",
      "  [[130.75 111.75 104.75]\n",
      "   [135.25 116.25 109.25]\n",
      "   [136.5  117.5  110.5 ]\n",
      "   ...\n",
      "   [126.25 106.25  99.25]\n",
      "   [134.75 114.75 107.75]\n",
      "   [129.25 109.25 102.25]]\n",
      "\n",
      "  [[127.   108.   101.  ]\n",
      "   [127.75 108.75 101.75]\n",
      "   [139.75 120.75 113.75]\n",
      "   ...\n",
      "   [123.5  103.5   96.5 ]\n",
      "   [119.    99.    92.  ]\n",
      "   [124.25 104.25  97.25]]\n",
      "\n",
      "  ...\n",
      "\n",
      "  [[187.   178.   171.  ]\n",
      "   [195.   186.   179.  ]\n",
      "   [195.   186.   179.  ]\n",
      "   ...\n",
      "   [189.75 182.75 176.75]\n",
      "   [189.25 182.25 176.25]\n",
      "   [185.   178.   172.  ]]\n",
      "\n",
      "  [[193.   184.   177.  ]\n",
      "   [191.5  182.5  175.5 ]\n",
      "   [192.   183.   176.  ]\n",
      "   ...\n",
      "   [187.   180.   174.  ]\n",
      "   [185.25 178.25 172.25]\n",
      "   [175.75 168.75 162.75]]\n",
      "\n",
      "  [[195.75 186.75 179.75]\n",
      "   [198.25 189.25 182.25]\n",
      "   [192.5  183.5  176.5 ]\n",
      "   ...\n",
      "   [189.   182.   176.  ]\n",
      "   [197.   190.   184.  ]\n",
      "   [195.   188.   182.  ]]]\n",
      "\n",
      "\n",
      " [[[163.   144.   146.  ]\n",
      "   [162.5  143.5  145.5 ]\n",
      "   [168.75 149.75 151.75]\n",
      "   ...\n",
      "   [122.25 103.25 105.25]\n",
      "   [ 99.25  80.25  82.25]\n",
      "   [ 69.5   50.5   52.5 ]]\n",
      "\n",
      "  [[144.5  125.5  127.5 ]\n",
      "   [150.   131.   133.  ]\n",
      "   [168.5  149.5  151.5 ]\n",
      "   ...\n",
      "   [134.25 115.25 117.25]\n",
      "   [114.5   95.5   97.5 ]\n",
      "   [ 88.5   69.5   71.5 ]]\n",
      "\n",
      "  [[171.5  152.5  154.5 ]\n",
      "   [151.75 132.75 134.75]\n",
      "   [156.   137.   139.  ]\n",
      "   ...\n",
      "   [141.   122.   124.  ]\n",
      "   [132.   113.   115.  ]\n",
      "   [118.75  99.75 101.75]]\n",
      "\n",
      "  ...\n",
      "\n",
      "  [[171.   153.   151.  ]\n",
      "   [168.   150.   148.  ]\n",
      "   [187.   169.   167.  ]\n",
      "   ...\n",
      "   [176.   158.   156.  ]\n",
      "   [160.   142.   140.  ]\n",
      "   [173.75 155.75 153.75]]\n",
      "\n",
      "  [[173.75 155.75 153.75]\n",
      "   [188.5  170.5  168.5 ]\n",
      "   [179.25 161.25 159.25]\n",
      "   ...\n",
      "   [173.   155.   153.  ]\n",
      "   [168.75 150.75 148.75]\n",
      "   [172.25 154.25 152.25]]\n",
      "\n",
      "  [[177.75 159.75 157.75]\n",
      "   [172.75 154.75 152.75]\n",
      "   [178.25 160.25 158.25]\n",
      "   ...\n",
      "   [180.   162.   160.  ]\n",
      "   [168.25 150.25 148.25]\n",
      "   [192.5  174.5  172.5 ]]]\n",
      "\n",
      "\n",
      " ...\n",
      "\n",
      "\n",
      " [[[ 78.    73.25  70.  ]\n",
      "   [ 77.    72.    67.75]\n",
      "   [ 72.5   67.75  64.75]\n",
      "   ...\n",
      "   [ 87.    84.    81.5 ]\n",
      "   [ 83.25  80.25  76.5 ]\n",
      "   [ 84.    81.    77.25]]\n",
      "\n",
      "  [[147.5  142.5  136.5 ]\n",
      "   [139.75 134.75 128.75]\n",
      "   [137.5  132.5  126.5 ]\n",
      "   ...\n",
      "   [177.75 174.75 169.75]\n",
      "   [165.   162.   157.  ]\n",
      "   [174.5  171.5  166.5 ]]\n",
      "\n",
      "  [[142.25 137.25 131.25]\n",
      "   [145.25 140.25 134.25]\n",
      "   [145.5  140.5  134.5 ]\n",
      "   ...\n",
      "   [180.25 177.25 172.25]\n",
      "   [173.75 170.75 165.75]\n",
      "   [173.25 170.25 165.25]]\n",
      "\n",
      "  ...\n",
      "\n",
      "  [[129.5  125.5  116.5 ]\n",
      "   [128.5  124.5  115.5 ]\n",
      "   [126.75 122.75 113.75]\n",
      "   ...\n",
      "   [174.75 169.75 165.75]\n",
      "   [171.   166.   162.  ]\n",
      "   [172.5  167.5  163.5 ]]\n",
      "\n",
      "  [[128.   124.   115.  ]\n",
      "   [129.5  125.5  116.5 ]\n",
      "   [124.25 120.25 111.25]\n",
      "   ...\n",
      "   [180.75 175.75 171.75]\n",
      "   [179.5  174.5  170.5 ]\n",
      "   [182.75 177.75 173.75]]\n",
      "\n",
      "  [[129.5  125.5  116.5 ]\n",
      "   [132.   128.   119.  ]\n",
      "   [127.25 123.25 114.25]\n",
      "   ...\n",
      "   [177.5  172.5  168.5 ]\n",
      "   [180.25 175.25 171.25]\n",
      "   [182.25 177.25 173.25]]]\n",
      "\n",
      "\n",
      " [[[185.75 179.75 191.75]\n",
      "   [182.75 176.75 188.75]\n",
      "   [185.25 179.25 191.25]\n",
      "   ...\n",
      "   [154.25 148.25 160.25]\n",
      "   [145.   139.   151.  ]\n",
      "   [151.25 145.25 157.25]]\n",
      "\n",
      "  [[189.5  183.5  195.5 ]\n",
      "   [186.25 180.25 192.25]\n",
      "   [187.25 181.25 193.25]\n",
      "   ...\n",
      "   [140.   134.   146.  ]\n",
      "   [147.5  141.5  153.5 ]\n",
      "   [145.5  139.5  151.5 ]]\n",
      "\n",
      "  [[184.5  178.5  190.5 ]\n",
      "   [184.75 178.75 190.75]\n",
      "   [188.   182.   194.  ]\n",
      "   ...\n",
      "   [140.75 134.75 146.75]\n",
      "   [152.25 146.25 158.25]\n",
      "   [148.5  142.5  154.5 ]]\n",
      "\n",
      "  ...\n",
      "\n",
      "  [[196.75 190.75 202.75]\n",
      "   [198.5  192.5  204.5 ]\n",
      "   [200.5  194.5  206.5 ]\n",
      "   ...\n",
      "   [170.   164.   176.  ]\n",
      "   [166.   160.   172.  ]\n",
      "   [157.75 151.75 163.75]]\n",
      "\n",
      "  [[200.5  194.5  206.5 ]\n",
      "   [205.   199.   211.  ]\n",
      "   [203.5  197.5  209.5 ]\n",
      "   ...\n",
      "   [164.75 158.75 170.75]\n",
      "   [158.75 152.75 164.75]\n",
      "   [162.   156.   168.  ]]\n",
      "\n",
      "  [[203.5  197.5  209.5 ]\n",
      "   [199.25 193.25 205.25]\n",
      "   [195.5  189.5  201.5 ]\n",
      "   ...\n",
      "   [175.   169.   181.  ]\n",
      "   [154.25 148.25 160.25]\n",
      "   [158.75 152.75 164.75]]]\n",
      "\n",
      "\n",
      " [[[121.75 108.75 125.75]\n",
      "   [118.   105.   122.  ]\n",
      "   [118.   105.   122.  ]\n",
      "   ...\n",
      "   [119.5  109.5  133.5 ]\n",
      "   [115.25 105.25 129.25]\n",
      "   [109.75  99.75 123.75]]\n",
      "\n",
      "  [[116.   103.   120.  ]\n",
      "   [127.   114.   131.  ]\n",
      "   [110.5   97.5  114.5 ]\n",
      "   ...\n",
      "   [111.   101.   125.  ]\n",
      "   [116.25 106.25 130.25]\n",
      "   [109.25  99.25 123.25]]\n",
      "\n",
      "  [[126.25 113.25 130.25]\n",
      "   [117.75 104.75 121.75]\n",
      "   [124.75 111.75 128.75]\n",
      "   ...\n",
      "   [109.5   99.5  123.5 ]\n",
      "   [115.25 105.25 129.25]\n",
      "   [107.5   97.5  121.5 ]]\n",
      "\n",
      "  ...\n",
      "\n",
      "  [[186.25 180.25 192.25]\n",
      "   [185.25 179.25 191.25]\n",
      "   [191.5  185.5  197.5 ]\n",
      "   ...\n",
      "   [171.25 164.25 180.25]\n",
      "   [168.   161.   177.  ]\n",
      "   [167.5  160.5  176.5 ]]\n",
      "\n",
      "  [[190.75 184.75 196.75]\n",
      "   [186.75 180.75 192.75]\n",
      "   [191.   185.   197.  ]\n",
      "   ...\n",
      "   [170.5  163.5  179.5 ]\n",
      "   [173.5  166.5  182.5 ]\n",
      "   [173.75 166.75 182.75]]\n",
      "\n",
      "  [[189.5  183.5  195.5 ]\n",
      "   [187.75 181.75 193.75]\n",
      "   [184.75 178.75 190.75]\n",
      "   ...\n",
      "   [171.75 164.75 180.75]\n",
      "   [171.75 164.75 180.75]\n",
      "   [175.   168.   184.  ]]]], shape=(32, 128, 128, 3), dtype=float32) (32, 128, 128, 3)\n",
      "tf.Tensor(\n",
      "[[0. 0. 0. ... 1. 0. 0.]\n",
      " [0. 0. 0. ... 0. 0. 0.]\n",
      " [0. 0. 0. ... 0. 0. 0.]\n",
      " ...\n",
      " [0. 0. 1. ... 0. 0. 0.]\n",
      " [0. 0. 0. ... 0. 0. 0.]\n",
      " [0. 0. 0. ... 0. 0. 0.]], shape=(32, 38), dtype=float32) (32, 38)\n"
     ]
    }
   ],
   "source": [
    "for x,y in training_set:\n",
    "    print(x,x.shape)\n",
    "    print(y,y.shape)\n",
    "    break"
   ]
  },
  {
   "cell_type": "markdown",
   "id": "3edb7f82-6ea1-4ff8-90e2-70d2825881c9",
   "metadata": {},
   "source": [
    "##### 1.Choose small learning rate default 0.001 here we have taken 0.0001\n",
    "#### 2. There may be chance of underfitting so increase number of neuron\n",
    "#### 3.Add more Convolutional Layer to extract more feature from images there may be possibilty that model unable to capture relevant feature or model is confusing due to lack of feature so feed with more feature"
   ]
  },
  {
   "cell_type": "code",
   "execution_count": null,
   "id": "620c9906-724d-4392-ba25-8c136bfe3276",
   "metadata": {},
   "outputs": [],
   "source": []
  },
  {
   "cell_type": "markdown",
   "id": "32063851-cbb1-4638-a9d9-a09b7a3ea9c4",
   "metadata": {},
   "source": [
    "## Building Model\n"
   ]
  },
  {
   "cell_type": "code",
   "execution_count": 150,
   "id": "e1bd6902-e219-473b-95d3-5adcc6cdc676",
   "metadata": {},
   "outputs": [],
   "source": [
    "from tensorflow.keras.models import Sequential\n",
    "from tensorflow.keras.layers import Dense, Conv2D, MaxPool2D, Flatten, Dropout"
   ]
  },
  {
   "cell_type": "code",
   "execution_count": 152,
   "id": "88931156-70f5-450b-87ec-452d91fe663e",
   "metadata": {},
   "outputs": [],
   "source": [
    "model = Sequential()"
   ]
  },
  {
   "cell_type": "markdown",
   "id": "04c0caf8-1628-4314-91d2-3f761fc83ee2",
   "metadata": {},
   "source": [
    "### Building Convolution Layer\n"
   ]
  },
  {
   "cell_type": "code",
   "execution_count": 154,
   "id": "8598f229-ed45-45a5-8d5a-b8b82397d5d8",
   "metadata": {},
   "outputs": [
    {
     "name": "stderr",
     "output_type": "stream",
     "text": [
      "C:\\Users\\V\\anaconda3\\Lib\\site-packages\\keras\\src\\layers\\convolutional\\base_conv.py:107: UserWarning: Do not pass an `input_shape`/`input_dim` argument to a layer. When using Sequential models, prefer using an `Input(shape)` object as the first layer in the model instead.\n",
      "  super().__init__(activity_regularizer=activity_regularizer, **kwargs)\n"
     ]
    }
   ],
   "source": [
    "model.add(Conv2D(filters=32, kernel_size=3, padding='same', activation='relu', input_shape=[128, 128, 3]))\n",
    "model.add(Conv2D(filters=32, kernel_size=3, activation='relu'))\n",
    "model.add(MaxPool2D(pool_size=2, strides=2))"
   ]
  },
  {
   "cell_type": "code",
   "execution_count": 66,
   "id": "fcd0b894-0466-43fd-964e-dfaea0c85b25",
   "metadata": {},
   "outputs": [],
   "source": [
    "model.add(Conv2D(filters=64, kernel_size=3, padding='same', activation='relu'))\n",
    "model.add(Conv2D(filters=64, kernel_size=3, activation='relu'))\n",
    "model.add(MaxPool2D(pool_size=2, strides=2))"
   ]
  },
  {
   "cell_type": "code",
   "execution_count": 88,
   "id": "2cb8eee6-24fc-4073-ae6c-282af1e65c80",
   "metadata": {},
   "outputs": [],
   "source": [
    "model.add(Conv2D(filters=128, kernel_size=3, padding='same', activation='relu'))\n",
    "model.add(Conv2D(filters=128, kernel_size=3, activation='relu'))\n",
    "model.add(MaxPool2D(pool_size=2, strides=2))"
   ]
  },
  {
   "cell_type": "code",
   "execution_count": 90,
   "id": "d1c6dc5f-7b7a-4dfe-a94f-1864a435c8b4",
   "metadata": {},
   "outputs": [],
   "source": [
    "model.add(Conv2D(filters=256, kernel_size=3, padding='same', activation='relu'))\n",
    "model.add(Conv2D(filters=256, kernel_size=3, activation='relu'))\n",
    "model.add(MaxPool2D(pool_size=2, strides=2))"
   ]
  },
  {
   "cell_type": "code",
   "execution_count": 92,
   "id": "9fa07d62-0a06-408b-b127-fc156c7ba152",
   "metadata": {},
   "outputs": [],
   "source": [
    "model.add(Conv2D(filters=512, kernel_size=3, padding='same', activation='relu'))\n",
    "model.add(Conv2D(filters=512, kernel_size=3, activation='relu'))\n",
    "model.add(MaxPool2D(pool_size=2, strides=2))"
   ]
  },
  {
   "cell_type": "code",
   "execution_count": 156,
   "id": "46227a80-f01f-4983-b05f-c823be14baa6",
   "metadata": {},
   "outputs": [],
   "source": [
    "model.add(Dropout(0.25))"
   ]
  },
  {
   "cell_type": "code",
   "execution_count": 158,
   "id": "e8e30ab2-87d4-44dc-80e4-38c384fa1354",
   "metadata": {},
   "outputs": [],
   "source": [
    "model.add(Flatten())"
   ]
  },
  {
   "cell_type": "code",
   "execution_count": 98,
   "id": "99d67f3e-ac85-4464-9419-9185e2544788",
   "metadata": {},
   "outputs": [],
   "source": [
    "model.add(Dense(units=1500,activation='relu'))"
   ]
  },
  {
   "cell_type": "code",
   "execution_count": 160,
   "id": "b2bbfed6-f563-4e94-8c7c-0cd99f2878cf",
   "metadata": {},
   "outputs": [],
   "source": [
    "model.add(Dropout(0.4)) # avoid over fiting"
   ]
  },
  {
   "cell_type": "code",
   "execution_count": 162,
   "id": "e9d42252-8a00-4800-979b-14c2ba7e08c7",
   "metadata": {},
   "outputs": [],
   "source": [
    "#output Layer\n",
    "model.add(Dense(units=38,activation='softmax'))"
   ]
  },
  {
   "cell_type": "code",
   "execution_count": null,
   "id": "f99d829c-a100-43ed-a032-ff6fc588b3ac",
   "metadata": {},
   "outputs": [],
   "source": []
  },
  {
   "cell_type": "code",
   "execution_count": null,
   "id": "0ab967de-d23d-46fe-b9a0-5349bf985d19",
   "metadata": {},
   "outputs": [],
   "source": []
  },
  {
   "cell_type": "markdown",
   "id": "8588e038-d921-4924-8ef2-4f773194a25c",
   "metadata": {},
   "source": [
    "## Compiling and Training Phase"
   ]
  },
  {
   "cell_type": "code",
   "execution_count": 164,
   "id": "da3e5390-f85e-4ddb-9d57-00b278a8086b",
   "metadata": {},
   "outputs": [],
   "source": [
    "model.compile(optimizer='adam', loss='categorical_crossentropy', metrics=['accuracy'])\n"
   ]
  },
  {
   "cell_type": "code",
   "execution_count": 166,
   "id": "199db1eb-fa44-4e60-af89-7033b543cf76",
   "metadata": {},
   "outputs": [
    {
     "data": {
      "text/html": [
       "<pre style=\"white-space:pre;overflow-x:auto;line-height:normal;font-family:Menlo,'DejaVu Sans Mono',consolas,'Courier New',monospace\"><span style=\"font-weight: bold\">Model: \"sequential_4\"</span>\n",
       "</pre>\n"
      ],
      "text/plain": [
       "\u001b[1mModel: \"sequential_4\"\u001b[0m\n"
      ]
     },
     "metadata": {},
     "output_type": "display_data"
    },
    {
     "data": {
      "text/html": [
       "<pre style=\"white-space:pre;overflow-x:auto;line-height:normal;font-family:Menlo,'DejaVu Sans Mono',consolas,'Courier New',monospace\">┏━━━━━━━━━━━━━━━━━━━━━━━━━━━━━━━━━━━━━━┳━━━━━━━━━━━━━━━━━━━━━━━━━━━━━┳━━━━━━━━━━━━━━━━━┓\n",
       "┃<span style=\"font-weight: bold\"> Layer (type)                         </span>┃<span style=\"font-weight: bold\"> Output Shape                </span>┃<span style=\"font-weight: bold\">         Param # </span>┃\n",
       "┡━━━━━━━━━━━━━━━━━━━━━━━━━━━━━━━━━━━━━━╇━━━━━━━━━━━━━━━━━━━━━━━━━━━━━╇━━━━━━━━━━━━━━━━━┩\n",
       "│ conv2d_26 (<span style=\"color: #0087ff; text-decoration-color: #0087ff\">Conv2D</span>)                   │ (<span style=\"color: #00d7ff; text-decoration-color: #00d7ff\">None</span>, <span style=\"color: #00af00; text-decoration-color: #00af00\">128</span>, <span style=\"color: #00af00; text-decoration-color: #00af00\">128</span>, <span style=\"color: #00af00; text-decoration-color: #00af00\">32</span>)        │             <span style=\"color: #00af00; text-decoration-color: #00af00\">896</span> │\n",
       "├──────────────────────────────────────┼─────────────────────────────┼─────────────────┤\n",
       "│ conv2d_27 (<span style=\"color: #0087ff; text-decoration-color: #0087ff\">Conv2D</span>)                   │ (<span style=\"color: #00d7ff; text-decoration-color: #00d7ff\">None</span>, <span style=\"color: #00af00; text-decoration-color: #00af00\">126</span>, <span style=\"color: #00af00; text-decoration-color: #00af00\">126</span>, <span style=\"color: #00af00; text-decoration-color: #00af00\">32</span>)        │           <span style=\"color: #00af00; text-decoration-color: #00af00\">9,248</span> │\n",
       "├──────────────────────────────────────┼─────────────────────────────┼─────────────────┤\n",
       "│ max_pooling2d_11 (<span style=\"color: #0087ff; text-decoration-color: #0087ff\">MaxPooling2D</span>)      │ (<span style=\"color: #00d7ff; text-decoration-color: #00d7ff\">None</span>, <span style=\"color: #00af00; text-decoration-color: #00af00\">63</span>, <span style=\"color: #00af00; text-decoration-color: #00af00\">63</span>, <span style=\"color: #00af00; text-decoration-color: #00af00\">32</span>)          │               <span style=\"color: #00af00; text-decoration-color: #00af00\">0</span> │\n",
       "├──────────────────────────────────────┼─────────────────────────────┼─────────────────┤\n",
       "│ dropout_3 (<span style=\"color: #0087ff; text-decoration-color: #0087ff\">Dropout</span>)                  │ (<span style=\"color: #00d7ff; text-decoration-color: #00d7ff\">None</span>, <span style=\"color: #00af00; text-decoration-color: #00af00\">63</span>, <span style=\"color: #00af00; text-decoration-color: #00af00\">63</span>, <span style=\"color: #00af00; text-decoration-color: #00af00\">32</span>)          │               <span style=\"color: #00af00; text-decoration-color: #00af00\">0</span> │\n",
       "├──────────────────────────────────────┼─────────────────────────────┼─────────────────┤\n",
       "│ flatten_1 (<span style=\"color: #0087ff; text-decoration-color: #0087ff\">Flatten</span>)                  │ (<span style=\"color: #00d7ff; text-decoration-color: #00d7ff\">None</span>, <span style=\"color: #00af00; text-decoration-color: #00af00\">127008</span>)              │               <span style=\"color: #00af00; text-decoration-color: #00af00\">0</span> │\n",
       "├──────────────────────────────────────┼─────────────────────────────┼─────────────────┤\n",
       "│ dropout_4 (<span style=\"color: #0087ff; text-decoration-color: #0087ff\">Dropout</span>)                  │ (<span style=\"color: #00d7ff; text-decoration-color: #00d7ff\">None</span>, <span style=\"color: #00af00; text-decoration-color: #00af00\">127008</span>)              │               <span style=\"color: #00af00; text-decoration-color: #00af00\">0</span> │\n",
       "├──────────────────────────────────────┼─────────────────────────────┼─────────────────┤\n",
       "│ dense_4 (<span style=\"color: #0087ff; text-decoration-color: #0087ff\">Dense</span>)                      │ (<span style=\"color: #00d7ff; text-decoration-color: #00d7ff\">None</span>, <span style=\"color: #00af00; text-decoration-color: #00af00\">38</span>)                  │       <span style=\"color: #00af00; text-decoration-color: #00af00\">4,826,342</span> │\n",
       "└──────────────────────────────────────┴─────────────────────────────┴─────────────────┘\n",
       "</pre>\n"
      ],
      "text/plain": [
       "┏━━━━━━━━━━━━━━━━━━━━━━━━━━━━━━━━━━━━━━┳━━━━━━━━━━━━━━━━━━━━━━━━━━━━━┳━━━━━━━━━━━━━━━━━┓\n",
       "┃\u001b[1m \u001b[0m\u001b[1mLayer (type)                        \u001b[0m\u001b[1m \u001b[0m┃\u001b[1m \u001b[0m\u001b[1mOutput Shape               \u001b[0m\u001b[1m \u001b[0m┃\u001b[1m \u001b[0m\u001b[1m        Param #\u001b[0m\u001b[1m \u001b[0m┃\n",
       "┡━━━━━━━━━━━━━━━━━━━━━━━━━━━━━━━━━━━━━━╇━━━━━━━━━━━━━━━━━━━━━━━━━━━━━╇━━━━━━━━━━━━━━━━━┩\n",
       "│ conv2d_26 (\u001b[38;5;33mConv2D\u001b[0m)                   │ (\u001b[38;5;45mNone\u001b[0m, \u001b[38;5;34m128\u001b[0m, \u001b[38;5;34m128\u001b[0m, \u001b[38;5;34m32\u001b[0m)        │             \u001b[38;5;34m896\u001b[0m │\n",
       "├──────────────────────────────────────┼─────────────────────────────┼─────────────────┤\n",
       "│ conv2d_27 (\u001b[38;5;33mConv2D\u001b[0m)                   │ (\u001b[38;5;45mNone\u001b[0m, \u001b[38;5;34m126\u001b[0m, \u001b[38;5;34m126\u001b[0m, \u001b[38;5;34m32\u001b[0m)        │           \u001b[38;5;34m9,248\u001b[0m │\n",
       "├──────────────────────────────────────┼─────────────────────────────┼─────────────────┤\n",
       "│ max_pooling2d_11 (\u001b[38;5;33mMaxPooling2D\u001b[0m)      │ (\u001b[38;5;45mNone\u001b[0m, \u001b[38;5;34m63\u001b[0m, \u001b[38;5;34m63\u001b[0m, \u001b[38;5;34m32\u001b[0m)          │               \u001b[38;5;34m0\u001b[0m │\n",
       "├──────────────────────────────────────┼─────────────────────────────┼─────────────────┤\n",
       "│ dropout_3 (\u001b[38;5;33mDropout\u001b[0m)                  │ (\u001b[38;5;45mNone\u001b[0m, \u001b[38;5;34m63\u001b[0m, \u001b[38;5;34m63\u001b[0m, \u001b[38;5;34m32\u001b[0m)          │               \u001b[38;5;34m0\u001b[0m │\n",
       "├──────────────────────────────────────┼─────────────────────────────┼─────────────────┤\n",
       "│ flatten_1 (\u001b[38;5;33mFlatten\u001b[0m)                  │ (\u001b[38;5;45mNone\u001b[0m, \u001b[38;5;34m127008\u001b[0m)              │               \u001b[38;5;34m0\u001b[0m │\n",
       "├──────────────────────────────────────┼─────────────────────────────┼─────────────────┤\n",
       "│ dropout_4 (\u001b[38;5;33mDropout\u001b[0m)                  │ (\u001b[38;5;45mNone\u001b[0m, \u001b[38;5;34m127008\u001b[0m)              │               \u001b[38;5;34m0\u001b[0m │\n",
       "├──────────────────────────────────────┼─────────────────────────────┼─────────────────┤\n",
       "│ dense_4 (\u001b[38;5;33mDense\u001b[0m)                      │ (\u001b[38;5;45mNone\u001b[0m, \u001b[38;5;34m38\u001b[0m)                  │       \u001b[38;5;34m4,826,342\u001b[0m │\n",
       "└──────────────────────────────────────┴─────────────────────────────┴─────────────────┘\n"
      ]
     },
     "metadata": {},
     "output_type": "display_data"
    },
    {
     "data": {
      "text/html": [
       "<pre style=\"white-space:pre;overflow-x:auto;line-height:normal;font-family:Menlo,'DejaVu Sans Mono',consolas,'Courier New',monospace\"><span style=\"font-weight: bold\"> Total params: </span><span style=\"color: #00af00; text-decoration-color: #00af00\">4,836,486</span> (18.45 MB)\n",
       "</pre>\n"
      ],
      "text/plain": [
       "\u001b[1m Total params: \u001b[0m\u001b[38;5;34m4,836,486\u001b[0m (18.45 MB)\n"
      ]
     },
     "metadata": {},
     "output_type": "display_data"
    },
    {
     "data": {
      "text/html": [
       "<pre style=\"white-space:pre;overflow-x:auto;line-height:normal;font-family:Menlo,'DejaVu Sans Mono',consolas,'Courier New',monospace\"><span style=\"font-weight: bold\"> Trainable params: </span><span style=\"color: #00af00; text-decoration-color: #00af00\">4,836,486</span> (18.45 MB)\n",
       "</pre>\n"
      ],
      "text/plain": [
       "\u001b[1m Trainable params: \u001b[0m\u001b[38;5;34m4,836,486\u001b[0m (18.45 MB)\n"
      ]
     },
     "metadata": {},
     "output_type": "display_data"
    },
    {
     "data": {
      "text/html": [
       "<pre style=\"white-space:pre;overflow-x:auto;line-height:normal;font-family:Menlo,'DejaVu Sans Mono',consolas,'Courier New',monospace\"><span style=\"font-weight: bold\"> Non-trainable params: </span><span style=\"color: #00af00; text-decoration-color: #00af00\">0</span> (0.00 B)\n",
       "</pre>\n"
      ],
      "text/plain": [
       "\u001b[1m Non-trainable params: \u001b[0m\u001b[38;5;34m0\u001b[0m (0.00 B)\n"
      ]
     },
     "metadata": {},
     "output_type": "display_data"
    }
   ],
   "source": [
    "model.summary()"
   ]
  },
  {
   "cell_type": "code",
   "execution_count": null,
   "id": "f155f05e-e024-42cf-b948-3963d226c3a1",
   "metadata": {},
   "outputs": [],
   "source": []
  },
  {
   "cell_type": "markdown",
   "id": "42477a18-5fab-4233-a170-844081ad1bd1",
   "metadata": {},
   "source": [
    "## Model Training"
   ]
  },
  {
   "cell_type": "code",
   "execution_count": 168,
   "id": "49b6f220-dc87-4883-82c9-ac524902d2e9",
   "metadata": {},
   "outputs": [
    {
     "name": "stdout",
     "output_type": "stream",
     "text": [
      "Epoch 1/10\n",
      "\u001b[1m2197/2197\u001b[0m \u001b[32m━━━━━━━━━━━━━━━━━━━━\u001b[0m\u001b[37m\u001b[0m \u001b[1m594s\u001b[0m 269ms/step - accuracy: 0.1944 - loss: 12.1856 - val_accuracy: 0.3871 - val_loss: 2.2928\n",
      "Epoch 2/10\n",
      "\u001b[1m2197/2197\u001b[0m \u001b[32m━━━━━━━━━━━━━━━━━━━━\u001b[0m\u001b[37m\u001b[0m \u001b[1m543s\u001b[0m 247ms/step - accuracy: 0.3972 - loss: 2.2001 - val_accuracy: 0.2068 - val_loss: 2.9880\n",
      "Epoch 3/10\n",
      "\u001b[1m2197/2197\u001b[0m \u001b[32m━━━━━━━━━━━━━━━━━━━━\u001b[0m\u001b[37m\u001b[0m \u001b[1m542s\u001b[0m 246ms/step - accuracy: 0.5253 - loss: 1.7234 - val_accuracy: 0.6519 - val_loss: 1.3213\n",
      "Epoch 4/10\n",
      "\u001b[1m2197/2197\u001b[0m \u001b[32m━━━━━━━━━━━━━━━━━━━━\u001b[0m\u001b[37m\u001b[0m \u001b[1m557s\u001b[0m 254ms/step - accuracy: 0.6860 - loss: 1.1359 - val_accuracy: 0.6687 - val_loss: 1.2941\n",
      "Epoch 5/10\n",
      "\u001b[1m2197/2197\u001b[0m \u001b[32m━━━━━━━━━━━━━━━━━━━━\u001b[0m\u001b[37m\u001b[0m \u001b[1m543s\u001b[0m 247ms/step - accuracy: 0.7835 - loss: 0.7756 - val_accuracy: 0.7036 - val_loss: 1.4720\n",
      "Epoch 6/10\n",
      "\u001b[1m2197/2197\u001b[0m \u001b[32m━━━━━━━━━━━━━━━━━━━━\u001b[0m\u001b[37m\u001b[0m \u001b[1m542s\u001b[0m 247ms/step - accuracy: 0.8244 - loss: 0.6395 - val_accuracy: 0.6682 - val_loss: 1.5802\n",
      "Epoch 7/10\n",
      "\u001b[1m2197/2197\u001b[0m \u001b[32m━━━━━━━━━━━━━━━━━━━━\u001b[0m\u001b[37m\u001b[0m \u001b[1m574s\u001b[0m 261ms/step - accuracy: 0.8620 - loss: 0.5264 - val_accuracy: 0.7280 - val_loss: 1.5722\n",
      "Epoch 8/10\n",
      "\u001b[1m2197/2197\u001b[0m \u001b[32m━━━━━━━━━━━━━━━━━━━━\u001b[0m\u001b[37m\u001b[0m \u001b[1m531s\u001b[0m 242ms/step - accuracy: 0.8880 - loss: 0.4422 - val_accuracy: 0.7654 - val_loss: 1.6996\n",
      "Epoch 9/10\n",
      "\u001b[1m2197/2197\u001b[0m \u001b[32m━━━━━━━━━━━━━━━━━━━━\u001b[0m\u001b[37m\u001b[0m \u001b[1m609s\u001b[0m 277ms/step - accuracy: 0.8958 - loss: 0.4377 - val_accuracy: 0.6515 - val_loss: 2.3853\n",
      "Epoch 10/10\n",
      "\u001b[1m2197/2197\u001b[0m \u001b[32m━━━━━━━━━━━━━━━━━━━━\u001b[0m\u001b[37m\u001b[0m \u001b[1m532s\u001b[0m 242ms/step - accuracy: 0.9149 - loss: 0.3742 - val_accuracy: 0.7532 - val_loss: 2.0109\n"
     ]
    }
   ],
   "source": [
    "training_history = model.fit(\n",
    "    x=training_set,\n",
    "    validation_data=validation_set,\n",
    "    epochs=10\n",
    "\n",
    ")"
   ]
  },
  {
   "cell_type": "code",
   "execution_count": null,
   "id": "32cd9eb1-bf0a-4ea2-8aab-8c6ca115f76d",
   "metadata": {},
   "outputs": [],
   "source": []
  },
  {
   "cell_type": "code",
   "execution_count": null,
   "id": "a087cb14-21c6-4a05-ac1b-99f7aea540a8",
   "metadata": {},
   "outputs": [],
   "source": []
  },
  {
   "cell_type": "markdown",
   "id": "50618f2d-a782-44d0-81ed-457496a0f854",
   "metadata": {},
   "source": [
    "## Model Evaluating"
   ]
  },
  {
   "cell_type": "code",
   "execution_count": null,
   "id": "a6cc2d1e-259a-4e95-91e7-90eb3706f3cd",
   "metadata": {},
   "outputs": [
    {
     "name": "stdout",
     "output_type": "stream",
     "text": [
      "\u001b[1m2197/2197\u001b[0m \u001b[32m━━━━━━━━━━━━━━━━━━━━\u001b[0m\u001b[37m\u001b[0m \u001b[1m104s\u001b[0m 47ms/step - accuracy: 0.9831 - loss: 0.0647\n"
     ]
    }
   ],
   "source": [
    "train_loss,train_acc= model.evaluate(training_set)"
   ]
  },
  {
   "cell_type": "code",
   "execution_count": 172,
   "id": "9b35d1ae-14d5-48cd-85ae-06d0d608329f",
   "metadata": {},
   "outputs": [
    {
     "name": "stdout",
     "output_type": "stream",
     "text": [
      "0.06269944459199905 0.9837114810943604\n"
     ]
    }
   ],
   "source": [
    "\n",
    "print(train_loss,train_acc)"
   ]
  },
  {
   "cell_type": "code",
   "execution_count": 174,
   "id": "fed6fa61-0866-496e-b2f7-d4b3758fae96",
   "metadata": {},
   "outputs": [
    {
     "name": "stdout",
     "output_type": "stream",
     "text": [
      "\u001b[1m550/550\u001b[0m \u001b[32m━━━━━━━━━━━━━━━━━━━━\u001b[0m\u001b[37m\u001b[0m \u001b[1m27s\u001b[0m 49ms/step - accuracy: 0.7554 - loss: 1.9500\n"
     ]
    }
   ],
   "source": [
    "val_loss, val_acc = model.evaluate(validation_set)"
   ]
  },
  {
   "cell_type": "code",
   "execution_count": 176,
   "id": "c7e3a9a6-95ae-4dc0-b02f-df8bd109b0eb",
   "metadata": {},
   "outputs": [
    {
     "name": "stdout",
     "output_type": "stream",
     "text": [
      "2.0108654499053955 0.7532438039779663\n"
     ]
    }
   ],
   "source": [
    "#Validation set Accuracy\n",
    "print(val_loss, val_acc)"
   ]
  },
  {
   "cell_type": "code",
   "execution_count": null,
   "id": "2ce9642c-c128-4058-b7cc-3346ca5512c6",
   "metadata": {},
   "outputs": [],
   "source": []
  },
  {
   "cell_type": "code",
   "execution_count": null,
   "id": "2d994600-f0f4-4b1d-9250-049e1421709b",
   "metadata": {},
   "outputs": [],
   "source": []
  },
  {
   "cell_type": "code",
   "execution_count": null,
   "id": "58e868c4-9ed7-4a5e-9c96-d1b518ab6949",
   "metadata": {},
   "outputs": [],
   "source": []
  },
  {
   "cell_type": "markdown",
   "id": "d1eb03e9-08f0-46f2-ad35-894dfd55d6ad",
   "metadata": {},
   "source": [
    "#### Saving Model\n"
   ]
  },
  {
   "cell_type": "code",
   "execution_count": 178,
   "id": "094ed6b2-e8b8-4a28-b6f3-cb30460cfc14",
   "metadata": {},
   "outputs": [],
   "source": [
    "model.save('trained_plant_disease_model.keras')"
   ]
  },
  {
   "cell_type": "code",
   "execution_count": 180,
   "id": "ac9e50b3-8fe9-4460-aa13-fa4623c6066d",
   "metadata": {},
   "outputs": [
    {
     "data": {
      "text/plain": [
       "{'accuracy': [0.23967565596103668,\n",
       "  0.4279536306858063,\n",
       "  0.5867273807525635,\n",
       "  0.7123266458511353,\n",
       "  0.79709792137146,\n",
       "  0.8341987133026123,\n",
       "  0.8733622431755066,\n",
       "  0.8909595012664795,\n",
       "  0.8998364210128784,\n",
       "  0.9174621105194092],\n",
       " 'loss': [4.271119594573975,\n",
       "  2.094214916229248,\n",
       "  1.4916008710861206,\n",
       "  1.0361876487731934,\n",
       "  0.7295794486999512,\n",
       "  0.6165875196456909,\n",
       "  0.4858982264995575,\n",
       "  0.43814709782600403,\n",
       "  0.4259902238845825,\n",
       "  0.3712775409221649],\n",
       " 'val_accuracy': [0.38709309697151184,\n",
       "  0.20680628716945648,\n",
       "  0.6518893837928772,\n",
       "  0.6687343716621399,\n",
       "  0.7036194205284119,\n",
       "  0.668222188949585,\n",
       "  0.7279763221740723,\n",
       "  0.7653653621673584,\n",
       "  0.651547908782959,\n",
       "  0.7532438039779663],\n",
       " 'val_loss': [2.292823553085327,\n",
       "  2.9879889488220215,\n",
       "  1.321262240409851,\n",
       "  1.2941389083862305,\n",
       "  1.4720350503921509,\n",
       "  1.580150842666626,\n",
       "  1.572222352027893,\n",
       "  1.699608564376831,\n",
       "  2.385312080383301,\n",
       "  2.0108652114868164]}"
      ]
     },
     "execution_count": 180,
     "metadata": {},
     "output_type": "execute_result"
    }
   ],
   "source": [
    "training_history.history #Return Dictionary of history\n"
   ]
  },
  {
   "cell_type": "code",
   "execution_count": 188,
   "id": "36cab17d-67ed-4066-981c-883e67fe5f37",
   "metadata": {},
   "outputs": [],
   "source": [
    "#Recording History in json\n",
    "import json\n",
    "with open('training_hist.json','w') as f:\n",
    "  json.dump(training_history.history,f)"
   ]
  },
  {
   "cell_type": "code",
   "execution_count": 190,
   "id": "81dc3281-04b0-4d9b-8ba6-1b39e07efb56",
   "metadata": {},
   "outputs": [
    {
     "name": "stdout",
     "output_type": "stream",
     "text": [
      "dict_keys(['accuracy', 'loss', 'val_accuracy', 'val_loss'])\n"
     ]
    }
   ],
   "source": [
    "print(training_history.history.keys())"
   ]
  },
  {
   "cell_type": "markdown",
   "id": "4f3b0b5e-2bfc-4fd5-935b-3ed15f89c677",
   "metadata": {},
   "source": [
    "## Accuracy Visualization\n"
   ]
  },
  {
   "cell_type": "code",
   "execution_count": 192,
   "id": "dd1d3504-02b5-4f9d-99c0-9a50f48142d1",
   "metadata": {},
   "outputs": [
    {
     "data": {
      "image/png": "[encoded data removed]",
      "text/plain": [
       "<Figure size 640x480 with 1 Axes>"
      ]
     },
     "metadata": {},
     "output_type": "display_data"
    }
   ],
   "source": [
    "epochs = [i for i in range(1,11)]\n",
    "plt.plot(epochs,training_history.history['accuracy'],color='red',label='Training Accuracy')\n",
    "plt.plot(epochs,training_history.history['val_accuracy'],color='blue',label='Validation Accuracy')\n",
    "plt.xlabel('No. of Epochs')\n",
    "plt.ylabel('Accuracy Resul')\n",
    "plt.title('Visualization of Accuracy Result')\n",
    "plt.legend()\n",
    "plt.show()"
   ]
  },
  {
   "cell_type": "markdown",
   "id": "88e154a5-4df8-4e5a-b45f-3f3cdd0f2ac0",
   "metadata": {},
   "source": [
    "### Some other metrics for model evaluation\n"
   ]
  },
  {
   "cell_type": "code",
   "execution_count": 194,
   "id": "59f1975e-4744-4b2c-ac66-aa48e60679b6",
   "metadata": {},
   "outputs": [
    {
     "data": {
      "text/plain": [
       "['Apple___Apple_scab',\n",
       " 'Apple___Black_rot',\n",
       " 'Apple___Cedar_apple_rust',\n",
       " 'Apple___healthy',\n",
       " 'Blueberry___healthy',\n",
       " 'Cherry_(including_sour)___Powdery_mildew',\n",
       " 'Cherry_(including_sour)___healthy',\n",
       " 'Corn_(maize)___Cercospora_leaf_spot Gray_leaf_spot',\n",
       " 'Corn_(maize)___Common_rust_',\n",
       " 'Corn_(maize)___Northern_Leaf_Blight',\n",
       " 'Corn_(maize)___healthy',\n",
       " 'Grape___Black_rot',\n",
       " 'Grape___Esca_(Black_Measles)',\n",
       " 'Grape___Leaf_blight_(Isariopsis_Leaf_Spot)',\n",
       " 'Grape___healthy',\n",
       " 'Orange___Haunglongbing_(Citrus_greening)',\n",
       " 'Peach___Bacterial_spot',\n",
       " 'Peach___healthy',\n",
       " 'Pepper,_bell___Bacterial_spot',\n",
       " 'Pepper,_bell___healthy',\n",
       " 'Potato___Early_blight',\n",
       " 'Potato___Late_blight',\n",
       " 'Potato___healthy',\n",
       " 'Raspberry___healthy',\n",
       " 'Soybean___healthy',\n",
       " 'Squash___Powdery_mildew',\n",
       " 'Strawberry___Leaf_scorch',\n",
       " 'Strawberry___healthy',\n",
       " 'Tomato___Bacterial_spot',\n",
       " 'Tomato___Early_blight',\n",
       " 'Tomato___Late_blight',\n",
       " 'Tomato___Leaf_Mold',\n",
       " 'Tomato___Septoria_leaf_spot',\n",
       " 'Tomato___Spider_mites Two-spotted_spider_mite',\n",
       " 'Tomato___Target_Spot',\n",
       " 'Tomato___Tomato_Yellow_Leaf_Curl_Virus',\n",
       " 'Tomato___Tomato_mosaic_virus',\n",
       " 'Tomato___healthy']"
      ]
     },
     "execution_count": 194,
     "metadata": {},
     "output_type": "execute_result"
    }
   ],
   "source": [
    "class_name = validation_set.class_names\n",
    "class_name"
   ]
  },
  {
   "cell_type": "code",
   "execution_count": 196,
   "id": "152cfa66-b56d-4300-88c4-dc612ef92140",
   "metadata": {},
   "outputs": [
    {
     "name": "stdout",
     "output_type": "stream",
     "text": [
      "Found 17572 files belonging to 38 classes.\n"
     ]
    }
   ],
   "source": [
    "test_set = tf.keras.utils.image_dataset_from_directory(\n",
    "    'valid',\n",
    "    labels=\"inferred\",\n",
    "    label_mode=\"categorical\",\n",
    "    class_names=None,\n",
    "    color_mode=\"rgb\",\n",
    "    batch_size=1,\n",
    "    image_size=(128, 128),\n",
    "    shuffle=False,\n",
    "    seed=None,\n",
    "    validation_split=None,\n",
    "    subset=None,\n",
    "    interpolation=\"bilinear\",\n",
    "    follow_links=False,\n",
    "    crop_to_aspect_ratio=False\n",
    ")"
   ]
  },
  {
   "cell_type": "code",
   "execution_count": 122,
   "id": "7c3f8ea0-24f6-4a81-9c3b-e0b83dd15696",
   "metadata": {},
   "outputs": [
    {
     "name": "stdout",
     "output_type": "stream",
     "text": [
      "\u001b[1m17572/17572\u001b[0m \u001b[32m━━━━━━━━━━━━━━━━━━━━\u001b[0m\u001b[37m\u001b[0m \u001b[1m402s\u001b[0m 23ms/step\n"
     ]
    }
   ],
   "source": [
    "y_pred = model.predict(test_set)\n",
    "predicted_categories = tf.argmax(y_pred, axis=1)"
   ]
  },
  {
   "cell_type": "code",
   "execution_count": null,
   "id": "c09d9dec-9d41-4757-8351-2b3eb003363a",
   "metadata": {},
   "outputs": [],
   "source": []
  },
  {
   "cell_type": "code",
   "execution_count": 124,
   "id": "aa1571f6-ed89-44b9-a25c-96c328d38aac",
   "metadata": {},
   "outputs": [],
   "source": [
    "true_categories = tf.concat([y for x, y in test_set], axis=0)\n",
    "Y_true = tf.argmax(true_categories, axis=1)"
   ]
  },
  {
   "cell_type": "code",
   "execution_count": 126,
   "id": "a7671d12-0a83-4784-a51b-6b8098cc98cd",
   "metadata": {},
   "outputs": [
    {
     "data": {
      "text/plain": [
       "<tf.Tensor: shape=(17572,), dtype=int64, numpy=array([ 0,  0,  0, ..., 37, 37, 37], dtype=int64)>"
      ]
     },
     "execution_count": 126,
     "metadata": {},
     "output_type": "execute_result"
    }
   ],
   "source": [
    "Y_true"
   ]
  },
  {
   "cell_type": "code",
   "execution_count": 128,
   "id": "ce3fd8f0-30f9-4f24-b054-b5ff4c04d89b",
   "metadata": {},
   "outputs": [
    {
     "data": {
      "text/plain": [
       "<tf.Tensor: shape=(17572,), dtype=int64, numpy=array([ 0,  0,  0, ..., 37, 37, 34], dtype=int64)>"
      ]
     },
     "execution_count": 128,
     "metadata": {},
     "output_type": "execute_result"
    }
   ],
   "source": [
    "predicted_categories"
   ]
  },
  {
   "cell_type": "raw",
   "id": "d3f7f945-88e8-4ce9-8d4e-b9047e861975",
   "metadata": {},
   "source": []
  },
  {
   "attachments": {
    "d0349161-c824-433f-ac57-8c9c9a1a846e.png": {
     "image/png": "[encoded data removed]"
    },
    "e42bb3e7-821d-49ce-8de3-2df3c1f8b4a1.png": {
     "image/png": "[encoded data removed]"
    }
   },
   "cell_type": "markdown",
   "id": "18748faa-00af-4a66-8c4a-873d808c70ae",
   "metadata": {},
   "source": [
    "![image.png](attachment:d0349161-c824-433f-ac57-8c9c9a1a846e.png)![image.png](attachment:e42bb3e7-821d-49ce-8de3-2df3c1f8b4a1.png)"
   ]
  },
  {
   "cell_type": "code",
   "execution_count": null,
   "id": "08509a02-dd06-4060-8aea-2d2a5419ebe4",
   "metadata": {},
   "outputs": [],
   "source": []
  },
  {
   "cell_type": "code",
   "execution_count": 130,
   "id": "8845e3ea-c229-485c-b039-0f5de3e61c48",
   "metadata": {},
   "outputs": [],
   "source": [
    "from sklearn.metrics import confusion_matrix,classification_report\n",
    "cm = confusion_matrix(Y_true,predicted_categories)"
   ]
  },
  {
   "cell_type": "code",
   "execution_count": 136,
   "id": "20e5ac98-c9da-4d60-b749-67e35496a32b",
   "metadata": {},
   "outputs": [
    {
     "name": "stdout",
     "output_type": "stream",
     "text": [
      "                                                    precision    recall  f1-score   support\n",
      "\n",
      "                                Apple___Apple_scab       0.49      0.85      0.62       504\n",
      "                                 Apple___Black_rot       0.68      0.94      0.79       497\n",
      "                          Apple___Cedar_apple_rust       0.95      0.65      0.77       440\n",
      "                                   Apple___healthy       0.98      0.71      0.82       502\n",
      "                               Blueberry___healthy       0.83      0.71      0.77       454\n",
      "          Cherry_(including_sour)___Powdery_mildew       0.94      0.88      0.91       421\n",
      "                 Cherry_(including_sour)___healthy       0.86      0.91      0.88       456\n",
      "Corn_(maize)___Cercospora_leaf_spot Gray_leaf_spot       0.88      0.85      0.86       410\n",
      "                       Corn_(maize)___Common_rust_       0.96      0.98      0.97       477\n",
      "               Corn_(maize)___Northern_Leaf_Blight       0.90      0.89      0.89       477\n",
      "                            Corn_(maize)___healthy       0.98      0.99      0.99       465\n",
      "                                 Grape___Black_rot       0.86      0.69      0.77       472\n",
      "                      Grape___Esca_(Black_Measles)       0.76      0.99      0.86       480\n",
      "        Grape___Leaf_blight_(Isariopsis_Leaf_Spot)       1.00      0.80      0.89       430\n",
      "                                   Grape___healthy       0.94      0.98      0.96       423\n",
      "          Orange___Haunglongbing_(Citrus_greening)       1.00      0.81      0.89       503\n",
      "                            Peach___Bacterial_spot       0.85      0.78      0.81       459\n",
      "                                   Peach___healthy       0.92      0.84      0.88       432\n",
      "                     Pepper,_bell___Bacterial_spot       0.61      0.86      0.71       478\n",
      "                            Pepper,_bell___healthy       0.88      0.73      0.79       497\n",
      "                             Potato___Early_blight       0.78      0.95      0.86       485\n",
      "                              Potato___Late_blight       0.85      0.86      0.85       485\n",
      "                                  Potato___healthy       0.79      0.75      0.77       456\n",
      "                               Raspberry___healthy       0.95      0.47      0.63       445\n",
      "                                 Soybean___healthy       0.86      0.91      0.88       505\n",
      "                           Squash___Powdery_mildew       0.94      0.91      0.92       434\n",
      "                          Strawberry___Leaf_scorch       0.88      0.95      0.91       444\n",
      "                              Strawberry___healthy       0.89      0.77      0.82       456\n",
      "                           Tomato___Bacterial_spot       0.92      0.70      0.80       425\n",
      "                             Tomato___Early_blight       0.61      0.65      0.63       480\n",
      "                              Tomato___Late_blight       0.84      0.61      0.71       463\n",
      "                                Tomato___Leaf_Mold       0.76      0.70      0.73       470\n",
      "                       Tomato___Septoria_leaf_spot       0.68      0.46      0.55       436\n",
      "     Tomato___Spider_mites Two-spotted_spider_mite       0.85      0.54      0.66       435\n",
      "                              Tomato___Target_Spot       0.41      0.85      0.55       457\n",
      "            Tomato___Tomato_Yellow_Leaf_Curl_Virus       0.91      0.89      0.90       490\n",
      "                      Tomato___Tomato_mosaic_virus       0.78      0.95      0.86       448\n",
      "                                  Tomato___healthy       0.80      0.72      0.76       481\n",
      "\n",
      "                                          accuracy                           0.80     17572\n",
      "                                         macro avg       0.84      0.80      0.81     17572\n",
      "                                      weighted avg       0.83      0.80      0.81     17572\n",
      "\n"
     ]
    }
   ],
   "source": [
    "#Precision Recall Fscore\n",
    "print(classification_report(Y_true,predicted_categories,target_names=class_name))"
   ]
  },
  {
   "cell_type": "markdown",
   "id": "0bd9df18-09cd-454d-b5aa-dd31af33388b",
   "metadata": {},
   "source": [
    "## Confusion Matrix Visualization\n"
   ]
  },
  {
   "cell_type": "code",
   "execution_count": 2,
   "id": "492efe34-c31b-496a-9196-5168cf5e9f29",
   "metadata": {},
   "outputs": [
    {
     "ename": "NameError",
     "evalue": "name 'plt' is not defined",
     "output_type": "error",
     "traceback": [
      "\u001b[1;31m---------------------------------------------------------------------------\u001b[0m",
      "\u001b[1;31mNameError\u001b[0m                                 Traceback (most recent call last)",
      "Cell \u001b[1;32mIn[2], line 1\u001b[0m\n\u001b[1;32m----> 1\u001b[0m \u001b[43mplt\u001b[49m\u001b[38;5;241m.\u001b[39mfigure(figsize\u001b[38;5;241m=\u001b[39m(\u001b[38;5;241m40\u001b[39m, \u001b[38;5;241m40\u001b[39m))\n\u001b[0;32m      2\u001b[0m sns\u001b[38;5;241m.\u001b[39mheatmap(cm,annot\u001b[38;5;241m=\u001b[39m\u001b[38;5;28;01mTrue\u001b[39;00m,annot_kws\u001b[38;5;241m=\u001b[39m{\u001b[38;5;124m\"\u001b[39m\u001b[38;5;124msize\u001b[39m\u001b[38;5;124m\"\u001b[39m: \u001b[38;5;241m10\u001b[39m})\n\u001b[0;32m      4\u001b[0m plt\u001b[38;5;241m.\u001b[39mxlabel(\u001b[38;5;124m'\u001b[39m\u001b[38;5;124mPredicted Class\u001b[39m\u001b[38;5;124m'\u001b[39m,fontsize \u001b[38;5;241m=\u001b[39m \u001b[38;5;241m20\u001b[39m)\n",
      "\u001b[1;31mNameError\u001b[0m: name 'plt' is not defined"
     ]
    }
   ],
   "source": [
    "plt.figure(figsize=(40, 40))\n",
    "sns.heatmap(cm,annot=True,annot_kws={\"size\": 10})\n",
    "\n",
    "plt.xlabel('Predicted Class',fontsize = 20)\n",
    "plt.ylabel('Actual Class',fontsize = 20)\n",
    "plt.title('Plant Disease Prediction Confusion Matrix',fontsize = 25)\n",
    "plt.show()"
   ]
  },
  {
   "cell_type": "code",
   "execution_count": null,
   "id": "5301d1c8-85b1-4dd7-bffd-aba9fb3e71fd",
   "metadata": {},
   "outputs": [],
   "source": []
  },
  {
   "cell_type": "code",
   "execution_count": null,
   "id": "6f123b3b-e6fc-42a6-8da8-c4d9133e7597",
   "metadata": {},
   "outputs": [],
   "source": []
  },
  {
   "cell_type": "code",
   "execution_count": null,
   "id": "d3ca7520-c765-48c2-ad14-e3db0c1b7735",
   "metadata": {},
   "outputs": [],
   "source": []
  },
  {
   "cell_type": "code",
   "execution_count": null,
   "id": "d5b42358-3420-4533-84a7-d51d2949440a",
   "metadata": {},
   "outputs": [],
   "source": []
  },
  {
   "cell_type": "code",
   "execution_count": null,
   "id": "b43202c9-7467-431e-8bf5-d4396f863331",
   "metadata": {},
   "outputs": [],
   "source": []
  },
  {
   "cell_type": "code",
   "execution_count": null,
   "id": "e4fbcc00-30ab-4447-a37a-95ce5ce6d34c",
   "metadata": {},
   "outputs": [],
   "source": []
  }
 ],
 "metadata": {
  "kernelspec": {
   "display_name": "Python 3 (ipykernel)",
   "language": "python",
   "name": "python3"
  },
  "language_info": {
   "codemirror_mode": {
    "name": "ipython",
    "version": 3
   },
   "file_extension": ".py",
   "mimetype": "text/x-python",
   "name": "python",
   "nbconvert_exporter": "python",
   "pygments_lexer": "ipython3",
   "version": "3.12.4"
  }
 },
 "nbformat": 4,
 "nbformat_minor": 5
}
